{
 "cells": [
  {
   "cell_type": "code",
   "execution_count": 1,
   "id": "a41605f8",
   "metadata": {},
   "outputs": [],
   "source": [
    "from pickle import load\n",
    "from pickle import dump\n",
    "import numpy as np\n",
    "import pandas as pd\n",
    "from dateutil.parser import parse\n",
    "import os\n",
    "from collections import Counter\n",
    "import operator\n",
    "from random import sample"
   ]
  },
  {
   "cell_type": "code",
   "execution_count": 2,
   "id": "58837f02",
   "metadata": {},
   "outputs": [],
   "source": [
    "def dataLoader(postPath):\n",
    "    # THis is the method to load data from the input files    \n",
    "    orders = pd.read_csv(postPath,encoding = \"ISO-8859-1\")\n",
    "    return orders"
   ]
  },
  {
   "cell_type": "code",
   "execution_count": null,
   "id": "86f75571",
   "metadata": {},
   "outputs": [],
   "source": [
    "# Change the filename to point to your actual data set\n",
    "filename = \"data/training.csv\"\n",
    "# Let us load the customer Details\n",
    "custDetails = dataLoader(filename)\n",
    "custDetails.head()\n",
    "\n"
   ]
  },
  {
   "cell_type": "code",
   "execution_count": null,
   "id": "6f416097",
   "metadata": {},
   "outputs": [],
   "source": []
  }
 ],
 "metadata": {
  "kernelspec": {
   "display_name": "Python 3 (ipykernel)",
   "language": "python",
   "name": "python3"
  },
  "language_info": {
   "codemirror_mode": {
    "name": "ipython",
    "version": 3
   },
   "file_extension": ".py",
   "mimetype": "text/x-python",
   "name": "python",
   "nbconvert_exporter": "python",
   "pygments_lexer": "ipython3",
   "version": "3.9.2"
  }
 },
 "nbformat": 4,
 "nbformat_minor": 5
}
